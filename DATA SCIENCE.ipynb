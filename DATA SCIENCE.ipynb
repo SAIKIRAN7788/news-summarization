{
 "cells": [
  {
   "cell_type": "code",
   "execution_count": 1,
   "id": "1c14b3f3-59c6-44f9-9a66-61793c1c1e9b",
   "metadata": {},
   "outputs": [],
   "source": [
    "import streamlit as st\n",
    "import requests\n",
    "from bs4 import BeautifulSoup\n",
    "import nltk\n",
    "from nltk.sentiment import SentimentIntensityAnalyzer\n",
    "from gtts import gTTS\n",
    "import os\n",
    "import json\n",
    "\n",
    "# Run with: streamlit run app.py\n"
   ]
  },
  {
   "cell_type": "code",
   "execution_count": 2,
   "id": "aa662456-b36d-456e-a0da-9771795f68ce",
   "metadata": {},
   "outputs": [
    {
     "name": "stderr",
     "output_type": "stream",
     "text": [
      "[nltk_data] Downloading package vader_lexicon to\n",
      "[nltk_data]     C:\\Users\\KSaik\\AppData\\Roaming\\nltk_data...\n"
     ]
    }
   ],
   "source": [
    "nltk.download('vader_lexicon')\n",
    "sia = SentimentIntensityAnalyzer()\n",
    "\n"
   ]
  },
  {
   "cell_type": "code",
   "execution_count": 3,
   "id": "76eae501-1a1b-497d-9c2e-c14629e096ba",
   "metadata": {},
   "outputs": [],
   "source": [
    "# Function to scrape news articles\n",
    "def scrape_news(company):\n",
    "    search_url = f\"https://news.google.com/search?q={company}&hl=en&gl=US&ceid=US:en\"\n",
    "    headers = {\"User-Agent\": \"Mozilla/5.0\"}\n",
    "    response = requests.get(search_url, headers=headers)\n",
    "    soup = BeautifulSoup(response.text, \"html.parser\")\n",
    "    articles = []\n",
    "    \n",
    "    for item in soup.select(\".xrnccd\")[:10]:  # Limiting to 10 articles\n",
    "        title = item.find(\"h3\").get_text()\n",
    "        link = \"https://news.google.com\" + item.find(\"a\")[\"href\"][1:]\n",
    "        summary = item.find(\"span\").get_text() if item.find(\"span\") else \"No summary available\"\n",
    "        sentiment = analyze_sentiment(summary)\n",
    "        articles.append({\"title\": title, \"summary\": summary, \"link\": link, \"sentiment\": sentiment})\n",
    "    \n",
    "    return articles\n"
   ]
  },
  {
   "cell_type": "code",
   "execution_count": 4,
   "id": "123303b3-565d-488f-b980-2db1189ab39f",
   "metadata": {},
   "outputs": [],
   "source": [
    "# Function for sentiment analysis\n",
    "def analyze_sentiment(text):\n",
    "    score = sia.polarity_scores(text)\n",
    "    if score['compound'] >= 0.05:\n",
    "        return \"Positive\"\n",
    "    elif score['compound'] <= -0.05:\n",
    "        return \"Negative\"\n",
    "    else:\n",
    "        return \"Neutral\"\n",
    "\n",
    "# Function to generate text-to-speech in Hindi\n",
    "def generate_tts(text, filename=\"output.mp3\"):\n",
    "    tts = gTTS(text=text, lang=\"hi\")\n",
    "    tts.save(filename)\n",
    "    return filename\n"
   ]
  },
  {
   "cell_type": "code",
   "execution_count": 5,
   "id": "b83e2bbf-36fd-4a18-9352-b5c73eb296ed",
   "metadata": {},
   "outputs": [
    {
     "name": "stderr",
     "output_type": "stream",
     "text": [
      "2025-03-17 12:29:47.458 WARNING streamlit.runtime.scriptrunner_utils.script_run_context: Thread 'MainThread': missing ScriptRunContext! This warning can be ignored when running in bare mode.\n",
      "2025-03-17 12:29:48.663 \n",
      "  \u001b[33m\u001b[1mWarning:\u001b[0m to view this Streamlit app on a browser, run it with the following\n",
      "  command:\n",
      "\n",
      "    streamlit run C:\\Users\\KSaik\\AppData\\Local\\Programs\\Python\\Python312\\Lib\\site-packages\\ipykernel_launcher.py [ARGUMENTS]\n",
      "2025-03-17 12:29:48.664 Thread 'MainThread': missing ScriptRunContext! This warning can be ignored when running in bare mode.\n",
      "2025-03-17 12:29:48.665 Thread 'MainThread': missing ScriptRunContext! This warning can be ignored when running in bare mode.\n",
      "2025-03-17 12:29:48.666 Thread 'MainThread': missing ScriptRunContext! This warning can be ignored when running in bare mode.\n",
      "2025-03-17 12:29:48.669 Thread 'MainThread': missing ScriptRunContext! This warning can be ignored when running in bare mode.\n",
      "2025-03-17 12:29:48.672 Thread 'MainThread': missing ScriptRunContext! This warning can be ignored when running in bare mode.\n",
      "2025-03-17 12:29:48.673 Session state does not function when running a script without `streamlit run`\n",
      "2025-03-17 12:29:48.675 Thread 'MainThread': missing ScriptRunContext! This warning can be ignored when running in bare mode.\n",
      "2025-03-17 12:29:48.677 Thread 'MainThread': missing ScriptRunContext! This warning can be ignored when running in bare mode.\n",
      "2025-03-17 12:29:48.680 Thread 'MainThread': missing ScriptRunContext! This warning can be ignored when running in bare mode.\n",
      "2025-03-17 12:29:48.682 Thread 'MainThread': missing ScriptRunContext! This warning can be ignored when running in bare mode.\n",
      "2025-03-17 12:29:48.683 Thread 'MainThread': missing ScriptRunContext! This warning can be ignored when running in bare mode.\n",
      "2025-03-17 12:29:48.685 Thread 'MainThread': missing ScriptRunContext! This warning can be ignored when running in bare mode.\n",
      "2025-03-17 12:29:48.685 Thread 'MainThread': missing ScriptRunContext! This warning can be ignored when running in bare mode.\n"
     ]
    }
   ],
   "source": [
    "# Streamlit UI\n",
    "st.title(\"News Sentiment Analyzer & TTS\")\n",
    "company = st.text_input(\"Enter Company Name:\")\n",
    "if st.button(\"Analyze News\"):\n",
    "    news_data = scrape_news(company)\n",
    "    sentiment_counts = {\"Positive\": 0, \"Negative\": 0, \"Neutral\": 0}\n",
    "    \n",
    "    for article in news_data:\n",
    "        sentiment_counts[article[\"sentiment\"]] += 1\n",
    "    \n",
    "    st.write(\"## Sentiment Analysis Report\")\n",
    "    st.json(news_data)\n",
    "    \n",
    "    analysis_text = f\"For {company}, out of {len(news_data)} articles, {sentiment_counts['Positive']} were Positive, {sentiment_counts['Negative']} Negative, and {sentiment_counts['Neutral']} Neutral.\"\n",
    "    \n",
    "    st.write(analysis_text)\n",
    "    \n",
    "    # Generate and play Hindi speech\n",
    "    tts_file = generate_tts(analysis_text)\n",
    "    st.audio(tts_file)"
   ]
  },
  {
   "cell_type": "code",
   "execution_count": null,
   "id": "63d08283-7ea9-44de-9d94-3fc76073f04b",
   "metadata": {},
   "outputs": [],
   "source": []
  }
 ],
 "metadata": {
  "kernelspec": {
   "display_name": "Python 3 (ipykernel)",
   "language": "python",
   "name": "python3"
  },
  "language_info": {
   "codemirror_mode": {
    "name": "ipython",
    "version": 3
   },
   "file_extension": ".py",
   "mimetype": "text/x-python",
   "name": "python",
   "nbconvert_exporter": "python",
   "pygments_lexer": "ipython3",
   "version": "3.12.3"
  }
 },
 "nbformat": 4,
 "nbformat_minor": 5
}
